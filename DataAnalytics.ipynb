{
  "nbformat": 4,
  "nbformat_minor": 0,
  "metadata": {
    "colab": {
      "provenance": [],
      "authorship_tag": "ABX9TyOpxqmo+E/CtHrbYztwdlxy",
      "include_colab_link": true
    },
    "kernelspec": {
      "name": "python3",
      "display_name": "Python 3"
    },
    "language_info": {
      "name": "python"
    }
  },
  "cells": [
    {
      "cell_type": "markdown",
      "metadata": {
        "id": "view-in-github",
        "colab_type": "text"
      },
      "source": [
        "<a href=\"https://colab.research.google.com/github/Lochipi/AnimalDetection/blob/main/DataAnalytics.ipynb\" target=\"_parent\"><img src=\"https://colab.research.google.com/assets/colab-badge.svg\" alt=\"Open In Colab\"/></a>"
      ]
    },
    {
      "cell_type": "code",
      "execution_count": 63,
      "metadata": {
        "colab": {
          "base_uri": "https://localhost:8080/"
        },
        "id": "aoQLbrFRDLHA",
        "outputId": "30e46066-e605-46dd-8118-b3d6e9db885c"
      },
      "outputs": [
        {
          "output_type": "stream",
          "name": "stdout",
          "text": [
            "Hello World, this is a practice test for Data Analytics with Numpy and Pandas\n"
          ]
        }
      ],
      "source": [
        "print(\"Hello World, this is a practice test for Data Analytics with Numpy and Pandas\")"
      ]
    },
    {
      "cell_type": "markdown",
      "source": [
        "Numpy Library"
      ],
      "metadata": {
        "id": "CjH26jQyEiuL"
      }
    },
    {
      "cell_type": "code",
      "source": [
        "import numpy as np"
      ],
      "metadata": {
        "id": "_Gh3DOqKEL05"
      },
      "execution_count": 64,
      "outputs": []
    },
    {
      "cell_type": "markdown",
      "source": [
        "Creating a list in numpy"
      ],
      "metadata": {
        "id": "9UMe1VGqFEeJ"
      }
    },
    {
      "cell_type": "code",
      "source": [
        "roll_no = [1,2,3,4]\n",
        "print(roll_no)"
      ],
      "metadata": {
        "colab": {
          "base_uri": "https://localhost:8080/"
        },
        "id": "qDyt2rIyFNRf",
        "outputId": "cbbe5733-d496-4ec0-f80a-1ea63d6982ac"
      },
      "execution_count": 65,
      "outputs": [
        {
          "output_type": "stream",
          "name": "stdout",
          "text": [
            "[1, 2, 3, 4]\n"
          ]
        }
      ]
    },
    {
      "cell_type": "code",
      "source": [
        "arrl = np.array([1,2,3,4])"
      ],
      "metadata": {
        "id": "cNQJ3PxmEy_d"
      },
      "execution_count": 66,
      "outputs": []
    },
    {
      "cell_type": "code",
      "source": [
        "print(arrl)"
      ],
      "metadata": {
        "colab": {
          "base_uri": "https://localhost:8080/"
        },
        "id": "iyBlPi3eFa_d",
        "outputId": "09a38384-ecc6-4333-c641-65383bbdbd3e"
      },
      "execution_count": 67,
      "outputs": [
        {
          "output_type": "stream",
          "name": "stdout",
          "text": [
            "[1 2 3 4]\n"
          ]
        }
      ]
    },
    {
      "cell_type": "markdown",
      "source": [
        "check the data type of the data."
      ],
      "metadata": {
        "id": "ioq5VGa0FmlQ"
      }
    },
    {
      "cell_type": "code",
      "source": [
        "type(roll_no)"
      ],
      "metadata": {
        "colab": {
          "base_uri": "https://localhost:8080/"
        },
        "id": "UX8sLkOFFiWw",
        "outputId": "1604cb71-a630-4399-82c4-564ab15797fb"
      },
      "execution_count": 68,
      "outputs": [
        {
          "output_type": "execute_result",
          "data": {
            "text/plain": [
              "list"
            ]
          },
          "metadata": {},
          "execution_count": 68
        }
      ]
    },
    {
      "cell_type": "code",
      "source": [
        "type(arrl)"
      ],
      "metadata": {
        "colab": {
          "base_uri": "https://localhost:8080/"
        },
        "id": "JAUaiCR-FstX",
        "outputId": "017634e1-a41f-44fb-f662-acc9955046e8"
      },
      "execution_count": 69,
      "outputs": [
        {
          "output_type": "execute_result",
          "data": {
            "text/plain": [
              "numpy.ndarray"
            ]
          },
          "metadata": {},
          "execution_count": 69
        }
      ]
    },
    {
      "cell_type": "markdown",
      "source": [
        "Multiply, you will get list repeated"
      ],
      "metadata": {
        "id": "W-hSGyW0GS9h"
      }
    },
    {
      "cell_type": "code",
      "source": [
        "roll_no * 3"
      ],
      "metadata": {
        "colab": {
          "base_uri": "https://localhost:8080/"
        },
        "id": "sGZHQAt6Fykt",
        "outputId": "9a674b44-6b41-49c8-c09d-b4550aefb2d2"
      },
      "execution_count": 70,
      "outputs": [
        {
          "output_type": "execute_result",
          "data": {
            "text/plain": [
              "[1, 2, 3, 4, 1, 2, 3, 4, 1, 2, 3, 4]"
            ]
          },
          "metadata": {},
          "execution_count": 70
        }
      ]
    },
    {
      "cell_type": "markdown",
      "source": [
        "Multiplication for array you will get an each multiplied "
      ],
      "metadata": {
        "id": "OHgPOChlGgI2"
      }
    },
    {
      "cell_type": "code",
      "source": [
        "arrl * 3"
      ],
      "metadata": {
        "colab": {
          "base_uri": "https://localhost:8080/"
        },
        "id": "rpic1QpdGRq4",
        "outputId": "d07d5664-5fea-4404-f57e-40563c8d2cce"
      },
      "execution_count": 71,
      "outputs": [
        {
          "output_type": "execute_result",
          "data": {
            "text/plain": [
              "array([ 3,  6,  9, 12])"
            ]
          },
          "metadata": {},
          "execution_count": 71
        }
      ]
    },
    {
      "cell_type": "code",
      "source": [
        "arrl + 10"
      ],
      "metadata": {
        "colab": {
          "base_uri": "https://localhost:8080/"
        },
        "id": "e1l0sSdHGfHt",
        "outputId": "18f12e37-0c35-4c2a-f907-1cb0400e5948"
      },
      "execution_count": 72,
      "outputs": [
        {
          "output_type": "execute_result",
          "data": {
            "text/plain": [
              "array([11, 12, 13, 14])"
            ]
          },
          "metadata": {},
          "execution_count": 72
        }
      ]
    },
    {
      "cell_type": "markdown",
      "source": [
        "Dimensions of the array"
      ],
      "metadata": {
        "id": "wUxWDk71HGjv"
      }
    },
    {
      "cell_type": "code",
      "source": [
        "arrl.ndim"
      ],
      "metadata": {
        "colab": {
          "base_uri": "https://localhost:8080/"
        },
        "id": "Df0RDcvcG6CF",
        "outputId": "ad4cdfa0-e142-48eb-cd38-ec69fcf58a39"
      },
      "execution_count": 73,
      "outputs": [
        {
          "output_type": "execute_result",
          "data": {
            "text/plain": [
              "1"
            ]
          },
          "metadata": {},
          "execution_count": 73
        }
      ]
    },
    {
      "cell_type": "markdown",
      "source": [
        "4 Items in it, with one dimension"
      ],
      "metadata": {
        "id": "8wt8uVHVHqdT"
      }
    },
    {
      "cell_type": "code",
      "source": [
        "arrl.shape"
      ],
      "metadata": {
        "colab": {
          "base_uri": "https://localhost:8080/"
        },
        "id": "nmw9S3vIHO4Q",
        "outputId": "3f983b1a-f350-41d7-a8f4-3294765accf5"
      },
      "execution_count": 74,
      "outputs": [
        {
          "output_type": "execute_result",
          "data": {
            "text/plain": [
              "(4,)"
            ]
          },
          "metadata": {},
          "execution_count": 74
        }
      ]
    },
    {
      "cell_type": "markdown",
      "source": [
        "second array, 2dim array"
      ],
      "metadata": {
        "id": "1tWtHjA1H1b9"
      }
    },
    {
      "cell_type": "code",
      "source": [
        "arr2 = np.array([[1,2], [3,4]])\n",
        "arr2"
      ],
      "metadata": {
        "colab": {
          "base_uri": "https://localhost:8080/"
        },
        "id": "bDTMPm77HgZe",
        "outputId": "ad63eb31-d8f4-4f50-ad3e-aa0100e4b48a"
      },
      "execution_count": 75,
      "outputs": [
        {
          "output_type": "execute_result",
          "data": {
            "text/plain": [
              "array([[1, 2],\n",
              "       [3, 4]])"
            ]
          },
          "metadata": {},
          "execution_count": 75
        }
      ]
    },
    {
      "cell_type": "code",
      "source": [
        "arr2.ndim"
      ],
      "metadata": {
        "colab": {
          "base_uri": "https://localhost:8080/"
        },
        "id": "IBvaZ2ssH9ea",
        "outputId": "d4e4bee2-dd33-4f80-eb2d-a78713b3d4b0"
      },
      "execution_count": 76,
      "outputs": [
        {
          "output_type": "execute_result",
          "data": {
            "text/plain": [
              "2"
            ]
          },
          "metadata": {},
          "execution_count": 76
        }
      ]
    },
    {
      "cell_type": "code",
      "source": [
        "arr2.shape"
      ],
      "metadata": {
        "colab": {
          "base_uri": "https://localhost:8080/"
        },
        "id": "UPPJ8TttIWsS",
        "outputId": "e3fffba4-9d3f-4787-ec8c-f380145c72ad"
      },
      "execution_count": 77,
      "outputs": [
        {
          "output_type": "execute_result",
          "data": {
            "text/plain": [
              "(2, 2)"
            ]
          },
          "metadata": {},
          "execution_count": 77
        }
      ]
    },
    {
      "cell_type": "markdown",
      "source": [
        "Arrange Function"
      ],
      "metadata": {
        "id": "hThEHpkPI-gx"
      }
    },
    {
      "cell_type": "code",
      "source": [
        "arr2 = np.arange(1,21)\n",
        "arr2"
      ],
      "metadata": {
        "colab": {
          "base_uri": "https://localhost:8080/"
        },
        "id": "D0ioSloKIcc6",
        "outputId": "02c28881-1ccc-4979-e0a5-a9d5674ca755"
      },
      "execution_count": 78,
      "outputs": [
        {
          "output_type": "execute_result",
          "data": {
            "text/plain": [
              "array([ 1,  2,  3,  4,  5,  6,  7,  8,  9, 10, 11, 12, 13, 14, 15, 16, 17,\n",
              "       18, 19, 20])"
            ]
          },
          "metadata": {},
          "execution_count": 78
        }
      ]
    },
    {
      "cell_type": "code",
      "source": [
        "arr3 = np.arange(20, 38, 2)\n",
        "arr3"
      ],
      "metadata": {
        "colab": {
          "base_uri": "https://localhost:8080/"
        },
        "id": "_5gQuA0qJHNk",
        "outputId": "5b06351c-ccce-46b5-855c-16e6ca48130c"
      },
      "execution_count": 79,
      "outputs": [
        {
          "output_type": "execute_result",
          "data": {
            "text/plain": [
              "array([20, 22, 24, 26, 28, 30, 32, 34, 36])"
            ]
          },
          "metadata": {},
          "execution_count": 79
        }
      ]
    },
    {
      "cell_type": "markdown",
      "source": [
        "Indexing "
      ],
      "metadata": {
        "id": "uO8hea0SJ9jZ"
      }
    },
    {
      "cell_type": "code",
      "source": [
        "arr3[4]"
      ],
      "metadata": {
        "colab": {
          "base_uri": "https://localhost:8080/"
        },
        "id": "kEsvK8M9JpwX",
        "outputId": "0956ce5a-b873-4b75-a571-dc7c9faeea82"
      },
      "execution_count": 80,
      "outputs": [
        {
          "output_type": "execute_result",
          "data": {
            "text/plain": [
              "28"
            ]
          },
          "metadata": {},
          "execution_count": 80
        }
      ]
    },
    {
      "cell_type": "markdown",
      "source": [
        "Value at last position\n",
        "\n",
        "you can access the last element using the last number if you know the count. This is not the best case if you have large datasets "
      ],
      "metadata": {
        "id": "EQO3yRdjKvdJ"
      }
    },
    {
      "cell_type": "code",
      "source": [
        "# if you know the values\n",
        "arr3[8]"
      ],
      "metadata": {
        "colab": {
          "base_uri": "https://localhost:8080/"
        },
        "id": "QSepF0wGKbtK",
        "outputId": "beb35832-ec96-4dd8-c1dd-2666024c776a"
      },
      "execution_count": 81,
      "outputs": [
        {
          "output_type": "execute_result",
          "data": {
            "text/plain": [
              "36"
            ]
          },
          "metadata": {},
          "execution_count": 81
        }
      ]
    },
    {
      "cell_type": "markdown",
      "source": [
        "Accessing the last index using the best way, down below."
      ],
      "metadata": {
        "id": "bJf27e9WH1Dv"
      }
    },
    {
      "cell_type": "code",
      "source": [
        "# nagative indexing\n",
        "arr3[-1]"
      ],
      "metadata": {
        "colab": {
          "base_uri": "https://localhost:8080/"
        },
        "id": "cgU75eChK2cK",
        "outputId": "6f247a92-9e54-486e-8ddc-8cc3418fb8fa"
      },
      "execution_count": 82,
      "outputs": [
        {
          "output_type": "execute_result",
          "data": {
            "text/plain": [
              "36"
            ]
          },
          "metadata": {},
          "execution_count": 82
        }
      ]
    },
    {
      "cell_type": "markdown",
      "source": [
        "If you try to access the 9th element you can an error. ☹ "
      ],
      "metadata": {
        "id": "V_tYuNuvHfpI"
      }
    },
    {
      "cell_type": "code",
      "source": [
        "arr3[9]"
      ],
      "metadata": {
        "colab": {
          "base_uri": "https://localhost:8080/",
          "height": 165
        },
        "id": "y9wmeeaLLCM2",
        "outputId": "17ff88a9-9d19-444a-e91f-34d624362b1c"
      },
      "execution_count": 83,
      "outputs": [
        {
          "output_type": "error",
          "ename": "IndexError",
          "evalue": "ignored",
          "traceback": [
            "\u001b[0;31m---------------------------------------------------------------------------\u001b[0m",
            "\u001b[0;31mIndexError\u001b[0m                                Traceback (most recent call last)",
            "\u001b[0;32m<ipython-input-83-5f73025e44ae>\u001b[0m in \u001b[0;36m<cell line: 1>\u001b[0;34m()\u001b[0m\n\u001b[0;32m----> 1\u001b[0;31m \u001b[0marr3\u001b[0m\u001b[0;34m[\u001b[0m\u001b[0;36m9\u001b[0m\u001b[0;34m]\u001b[0m\u001b[0;34m\u001b[0m\u001b[0;34m\u001b[0m\u001b[0m\n\u001b[0m",
            "\u001b[0;31mIndexError\u001b[0m: index 9 is out of bounds for axis 0 with size 9"
          ]
        }
      ]
    },
    {
      "cell_type": "code",
      "source": [
        "m1 = np.arange(20, 38, 2)\n",
        "m1"
      ],
      "metadata": {
        "id": "6Iefcj3yj9WU",
        "colab": {
          "base_uri": "https://localhost:8080/"
        },
        "outputId": "1e1b240d-9ac2-4e60-9c0b-3d69cfd3a68c"
      },
      "execution_count": 84,
      "outputs": [
        {
          "output_type": "execute_result",
          "data": {
            "text/plain": [
              "array([20, 22, 24, 26, 28, 30, 32, 34, 36])"
            ]
          },
          "metadata": {},
          "execution_count": 84
        }
      ]
    },
    {
      "cell_type": "code",
      "source": [
        "# getting the 1st/ or 0th element \n",
        "m1[0]"
      ],
      "metadata": {
        "colab": {
          "base_uri": "https://localhost:8080/"
        },
        "id": "KexjjO_bJTVt",
        "outputId": "13019355-1eef-4aa7-afad-f079a4e7063d"
      },
      "execution_count": 85,
      "outputs": [
        {
          "output_type": "execute_result",
          "data": {
            "text/plain": [
              "20"
            ]
          },
          "metadata": {},
          "execution_count": 85
        }
      ]
    },
    {
      "cell_type": "code",
      "source": [
        "m1[7]"
      ],
      "metadata": {
        "colab": {
          "base_uri": "https://localhost:8080/"
        },
        "id": "cUvffLD5JrSs",
        "outputId": "d26090d1-cd7a-444d-b567-af1de41d0698"
      },
      "execution_count": 86,
      "outputs": [
        {
          "output_type": "execute_result",
          "data": {
            "text/plain": [
              "34"
            ]
          },
          "metadata": {},
          "execution_count": 86
        }
      ]
    },
    {
      "cell_type": "code",
      "source": [
        "# negative indexing\n",
        "m1[-2]"
      ],
      "metadata": {
        "colab": {
          "base_uri": "https://localhost:8080/"
        },
        "id": "nrls_I_mJ6jF",
        "outputId": "43a1ea67-855d-4e68-a9bf-1a7e7d3a58c3"
      },
      "execution_count": 87,
      "outputs": [
        {
          "output_type": "execute_result",
          "data": {
            "text/plain": [
              "34"
            ]
          },
          "metadata": {},
          "execution_count": 87
        }
      ]
    },
    {
      "cell_type": "code",
      "source": [
        "m1"
      ],
      "metadata": {
        "id": "PaBx4O6TKFhz"
      },
      "execution_count": null,
      "outputs": []
    },
    {
      "cell_type": "code",
      "source": [
        "#slicing \n",
        "# m1[start_idex : end_indx]  it doesn't inclued the last element.\n",
        "\n",
        "m1[1:4]"
      ],
      "metadata": {
        "colab": {
          "base_uri": "https://localhost:8080/"
        },
        "id": "6Duixl-iKkb5",
        "outputId": "7fb8b7a5-a687-4b71-eb88-5e3c7ff100c3"
      },
      "execution_count": 88,
      "outputs": [
        {
          "output_type": "execute_result",
          "data": {
            "text/plain": [
              "array([22, 24, 26])"
            ]
          },
          "metadata": {},
          "execution_count": 88
        }
      ]
    },
    {
      "cell_type": "code",
      "source": [
        "m1[ 4 : 8 ]"
      ],
      "metadata": {
        "colab": {
          "base_uri": "https://localhost:8080/"
        },
        "id": "u32F-0X9LkbB",
        "outputId": "e3071d11-37d8-4ba9-a416-ec21797de2ea"
      },
      "execution_count": 89,
      "outputs": [
        {
          "output_type": "execute_result",
          "data": {
            "text/plain": [
              "array([28, 30, 32, 34])"
            ]
          },
          "metadata": {},
          "execution_count": 89
        }
      ]
    },
    {
      "cell_type": "markdown",
      "source": [
        "With the negative indexing, the last item starts at -1 coming to the left"
      ],
      "metadata": {
        "id": "sRfhRsMkMGCB"
      }
    },
    {
      "cell_type": "code",
      "source": [
        "m1[ -5 : -1 ]"
      ],
      "metadata": {
        "colab": {
          "base_uri": "https://localhost:8080/"
        },
        "id": "9xkmisaTLzRD",
        "outputId": "60ce4a7c-8bc4-4db6-bfae-ef4d0c64a51c"
      },
      "execution_count": 90,
      "outputs": [
        {
          "output_type": "execute_result",
          "data": {
            "text/plain": [
              "array([28, 30, 32, 34])"
            ]
          },
          "metadata": {},
          "execution_count": 90
        }
      ]
    },
    {
      "cell_type": "code",
      "source": [
        "# Fancy Indexing"
      ],
      "metadata": {
        "id": "XrwSz0p8MBT_"
      },
      "execution_count": 91,
      "outputs": []
    },
    {
      "cell_type": "markdown",
      "source": [
        "We're checking if the elements inside m1 are less than 30, it returns true if it below else false."
      ],
      "metadata": {
        "id": "A2218vyvMmvY"
      }
    },
    {
      "cell_type": "code",
      "source": [
        "mask = m1 < 30\n",
        "mask"
      ],
      "metadata": {
        "colab": {
          "base_uri": "https://localhost:8080/"
        },
        "id": "WERi062FMWH5",
        "outputId": "c6ae538c-98e8-4b37-fd19-17b5328919b6"
      },
      "execution_count": 92,
      "outputs": [
        {
          "output_type": "execute_result",
          "data": {
            "text/plain": [
              "array([ True,  True,  True,  True,  True, False, False, False, False])"
            ]
          },
          "metadata": {},
          "execution_count": 92
        }
      ]
    },
    {
      "cell_type": "markdown",
      "source": [
        "`m1[mask]` is a way to access certain elements of a NumPy array `m1`. The `mask` is a boolean array of the same shape as `m1`, used to index or filter out certain elements of `m1`\n",
        "\n",
        "`m1[mask]` will return a new NumPy array of elements from `m1` where the corresponding element in `mask` is `True`"
      ],
      "metadata": {
        "id": "sHVzZ2GNkO4r"
      }
    },
    {
      "cell_type": "code",
      "source": [
        "m1[mask]"
      ],
      "metadata": {
        "colab": {
          "base_uri": "https://localhost:8080/"
        },
        "id": "c0WZ58yBMePl",
        "outputId": "17a49a93-a8f4-4105-a93c-5adca91e4255"
      },
      "execution_count": 93,
      "outputs": [
        {
          "output_type": "execute_result",
          "data": {
            "text/plain": [
              "array([20, 22, 24, 26, 28])"
            ]
          },
          "metadata": {},
          "execution_count": 93
        }
      ]
    },
    {
      "cell_type": "code",
      "source": [
        "type(m1)"
      ],
      "metadata": {
        "colab": {
          "base_uri": "https://localhost:8080/"
        },
        "id": "tO1XlAGYloqT",
        "outputId": "7a80d485-f9e2-400f-e07d-50c195022bb1"
      },
      "execution_count": 97,
      "outputs": [
        {
          "output_type": "execute_result",
          "data": {
            "text/plain": [
              "numpy.ndarray"
            ]
          },
          "metadata": {},
          "execution_count": 97
        }
      ]
    },
    {
      "cell_type": "markdown",
      "source": [
        "the same can be done this way"
      ],
      "metadata": {
        "id": "cbZssQ2vkutm"
      }
    },
    {
      "cell_type": "code",
      "source": [
        "m1[ m1 < 30 ]"
      ],
      "metadata": {
        "colab": {
          "base_uri": "https://localhost:8080/"
        },
        "id": "5PwITTiOki3k",
        "outputId": "dabaa2ed-1b9d-48b5-b202-fdd4508083d6"
      },
      "execution_count": 95,
      "outputs": [
        {
          "output_type": "execute_result",
          "data": {
            "text/plain": [
              "array([20, 22, 24, 26, 28])"
            ]
          },
          "metadata": {},
          "execution_count": 95
        }
      ]
    },
    {
      "cell_type": "markdown",
      "source": [
        "Down below, `m1` is an array variable. `m1%2==0` checks if the elements of the list m1 are even or not. If the element is even (leaves no remainder when divided by 2), then the condition becomes `True`. Otherwise, the condition becomes `False`.\n",
        "\n",
        "Using square brackets [ ], we apply this condition as a filter on the list m1. It only keeps the numbers that fulfill the condition (i.e., the even numbers), and returns a new list containing only the `even numbers` from the original list m1."
      ],
      "metadata": {
        "id": "5FQlNV2hlf_B"
      }
    },
    {
      "cell_type": "code",
      "source": [
        "m1[ m1%2 == 0 ]"
      ],
      "metadata": {
        "colab": {
          "base_uri": "https://localhost:8080/"
        },
        "id": "UjpK-IpMk9rE",
        "outputId": "ab964a67-68b0-43f7-bd9c-797af00e8217"
      },
      "execution_count": 98,
      "outputs": [
        {
          "output_type": "execute_result",
          "data": {
            "text/plain": [
              "array([20, 22, 24, 26, 28, 30, 32, 34, 36])"
            ]
          },
          "metadata": {},
          "execution_count": 98
        }
      ]
    },
    {
      "cell_type": "markdown",
      "source": [
        "This code creates two one-dimensional numpy arrays- `a` and `b`, with values `[1,3,5]` and `[2,1,1]` respectively. These arrays can be used to perform mathematical operations like addition, subtraction, multiplication, etc. on them."
      ],
      "metadata": {
        "id": "spy5FdGjmsZg"
      }
    },
    {
      "cell_type": "code",
      "source": [
        "a = np.array([1,3,5])\n",
        "b = np.array([2,1,1])\n",
        "\n",
        "print(a)\n",
        "print(b)"
      ],
      "metadata": {
        "colab": {
          "base_uri": "https://localhost:8080/"
        },
        "id": "Bj65S9xJmOvW",
        "outputId": "cd82c342-21cc-4131-e988-702a3e12005e"
      },
      "execution_count": 99,
      "outputs": [
        {
          "output_type": "stream",
          "name": "stdout",
          "text": [
            "[1 3 5]\n",
            "[2 1 1]\n"
          ]
        }
      ]
    },
    {
      "cell_type": "markdown",
      "source": [
        "Adding the two arrays"
      ],
      "metadata": {
        "id": "SaORhzDOn1sb"
      }
    },
    {
      "cell_type": "code",
      "source": [
        "a + b"
      ],
      "metadata": {
        "colab": {
          "base_uri": "https://localhost:8080/"
        },
        "id": "rlXO7Rylm2nL",
        "outputId": "c2aa9f2f-f751-48d8-a3c1-4862b8923af2"
      },
      "execution_count": 100,
      "outputs": [
        {
          "output_type": "execute_result",
          "data": {
            "text/plain": [
              "array([3, 4, 6])"
            ]
          },
          "metadata": {},
          "execution_count": 100
        }
      ]
    },
    {
      "cell_type": "markdown",
      "source": [
        "finding the smallest value in `a`"
      ],
      "metadata": {
        "id": "L0OjG1Tun-i1"
      }
    },
    {
      "cell_type": "code",
      "source": [
        "np.min(a)"
      ],
      "metadata": {
        "id": "y_b71s9-n7qK",
        "outputId": "5d0b0393-7599-436d-f275-ab227bd211c9",
        "colab": {
          "base_uri": "https://localhost:8080/"
        }
      },
      "execution_count": 101,
      "outputs": [
        {
          "output_type": "execute_result",
          "data": {
            "text/plain": [
              "1"
            ]
          },
          "metadata": {},
          "execution_count": 101
        }
      ]
    },
    {
      "cell_type": "markdown",
      "source": [
        "Maximum value in `b`"
      ],
      "metadata": {
        "id": "Rl5jz3pKoNpU"
      }
    },
    {
      "cell_type": "code",
      "source": [
        "np.max(b)"
      ],
      "metadata": {
        "id": "IabMo475oINU",
        "outputId": "e65c13bb-94d0-4bd1-a7e1-eaf8f30426f3",
        "colab": {
          "base_uri": "https://localhost:8080/"
        }
      },
      "execution_count": 102,
      "outputs": [
        {
          "output_type": "execute_result",
          "data": {
            "text/plain": [
              "2"
            ]
          },
          "metadata": {},
          "execution_count": 102
        }
      ]
    },
    {
      "cell_type": "markdown",
      "source": [
        "The average of `a`"
      ],
      "metadata": {
        "id": "hvNvR65BoSB7"
      }
    },
    {
      "cell_type": "code",
      "source": [
        "np.average(a)"
      ],
      "metadata": {
        "id": "FEauObzHoMSH",
        "outputId": "ac35adde-4f17-42f7-e2c6-84f2237307d1",
        "colab": {
          "base_uri": "https://localhost:8080/"
        }
      },
      "execution_count": 103,
      "outputs": [
        {
          "output_type": "execute_result",
          "data": {
            "text/plain": [
              "3.0"
            ]
          },
          "metadata": {},
          "execution_count": 103
        }
      ]
    },
    {
      "cell_type": "code",
      "source": [],
      "metadata": {
        "id": "VSW5AScMoV6q"
      },
      "execution_count": null,
      "outputs": []
    }
  ]
}