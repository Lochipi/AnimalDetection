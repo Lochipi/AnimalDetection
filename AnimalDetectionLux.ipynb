{
  "nbformat": 4,
  "nbformat_minor": 0,
  "metadata": {
    "colab": {
      "provenance": [],
      "authorship_tag": "ABX9TyOqUh19whEPUinGZtR+sibi",
      "include_colab_link": true
    },
    "kernelspec": {
      "name": "python3",
      "display_name": "Python 3"
    },
    "language_info": {
      "name": "python"
    }
  },
  "cells": [
    {
      "cell_type": "markdown",
      "metadata": {
        "id": "view-in-github",
        "colab_type": "text"
      },
      "source": [
        "<a href=\"https://colab.research.google.com/github/Lochipi/AnimalDetection/blob/main/AnimalDetectionLux.ipynb\" target=\"_parent\"><img src=\"https://colab.research.google.com/assets/colab-badge.svg\" alt=\"Open In Colab\"/></a>"
      ]
    },
    {
      "cell_type": "code",
      "execution_count": 1,
      "metadata": {
        "colab": {
          "base_uri": "https://localhost:8080/"
        },
        "id": "ieXu3x8I8XSZ",
        "outputId": "d2516bd6-d72f-4447-9a8e-c4aee56392b3"
      },
      "outputs": [
        {
          "output_type": "stream",
          "name": "stdout",
          "text": [
            "Looking in indexes: https://pypi.org/simple, https://us-python.pkg.dev/colab-wheels/public/simple/\n",
            "Requirement already satisfied: kaggle in /usr/local/lib/python3.9/dist-packages (1.5.13)\n",
            "Requirement already satisfied: tqdm in /usr/local/lib/python3.9/dist-packages (from kaggle) (4.65.0)\n",
            "Requirement already satisfied: requests in /usr/local/lib/python3.9/dist-packages (from kaggle) (2.27.1)\n",
            "Requirement already satisfied: six>=1.10 in /usr/local/lib/python3.9/dist-packages (from kaggle) (1.16.0)\n",
            "Requirement already satisfied: certifi in /usr/local/lib/python3.9/dist-packages (from kaggle) (2022.12.7)\n",
            "Requirement already satisfied: python-dateutil in /usr/local/lib/python3.9/dist-packages (from kaggle) (2.8.2)\n",
            "Requirement already satisfied: python-slugify in /usr/local/lib/python3.9/dist-packages (from kaggle) (8.0.1)\n",
            "Requirement already satisfied: urllib3 in /usr/local/lib/python3.9/dist-packages (from kaggle) (1.26.15)\n",
            "Requirement already satisfied: text-unidecode>=1.3 in /usr/local/lib/python3.9/dist-packages (from python-slugify->kaggle) (1.3)\n",
            "Requirement already satisfied: idna<4,>=2.5 in /usr/local/lib/python3.9/dist-packages (from requests->kaggle) (3.4)\n",
            "Requirement already satisfied: charset-normalizer~=2.0.0 in /usr/local/lib/python3.9/dist-packages (from requests->kaggle) (2.0.12)\n"
          ]
        }
      ],
      "source": [
        "!pip install kaggle"
      ]
    },
    {
      "cell_type": "code",
      "source": [
        "!pip install Pillow"
      ],
      "metadata": {
        "colab": {
          "base_uri": "https://localhost:8080/"
        },
        "id": "7-qW3_C18fiW",
        "outputId": "03c196fe-adc4-4466-9d1e-b19357fb8dc0"
      },
      "execution_count": 2,
      "outputs": [
        {
          "output_type": "stream",
          "name": "stdout",
          "text": [
            "Looking in indexes: https://pypi.org/simple, https://us-python.pkg.dev/colab-wheels/public/simple/\n",
            "Requirement already satisfied: Pillow in /usr/local/lib/python3.9/dist-packages (8.4.0)\n"
          ]
        }
      ]
    },
    {
      "cell_type": "code",
      "source": [
        "!pip install opencv-python"
      ],
      "metadata": {
        "colab": {
          "base_uri": "https://localhost:8080/"
        },
        "id": "qAFX4kmP8qQQ",
        "outputId": "bcd152fe-5019-40ad-bf00-7d096f1b7f4e"
      },
      "execution_count": 3,
      "outputs": [
        {
          "output_type": "stream",
          "name": "stdout",
          "text": [
            "Looking in indexes: https://pypi.org/simple, https://us-python.pkg.dev/colab-wheels/public/simple/\n",
            "Requirement already satisfied: opencv-python in /usr/local/lib/python3.9/dist-packages (4.7.0.72)\n",
            "Requirement already satisfied: numpy>=1.17.3 in /usr/local/lib/python3.9/dist-packages (from opencv-python) (1.22.4)\n"
          ]
        }
      ]
    },
    {
      "cell_type": "code",
      "source": [
        "import os\n",
        "os.environ['KAGGLE_USERNAME'] = 'corneliuslochipi'\n",
        "os.environ['KAGGLE_KEY'] = '48a20f697d7c36513acb672f90e4c019'"
      ],
      "metadata": {
        "id": "beQV_7LF8tn4"
      },
      "execution_count": 4,
      "outputs": []
    },
    {
      "cell_type": "code",
      "source": [
        "!kaggle datasets download -d antoreepjana/animals-detection-images-dataset"
      ],
      "metadata": {
        "colab": {
          "base_uri": "https://localhost:8080/"
        },
        "id": "fc-2DqWY8zI-",
        "outputId": "a8e52827-8a68-4cbc-8939-7b795b89e6ca"
      },
      "execution_count": 5,
      "outputs": [
        {
          "output_type": "stream",
          "name": "stdout",
          "text": [
            "Downloading animals-detection-images-dataset.zip to /content\n",
            "100% 8.90G/8.92G [01:28<00:00, 159MB/s]\n",
            "100% 8.92G/8.92G [01:28<00:00, 108MB/s]\n"
          ]
        }
      ]
    },
    {
      "cell_type": "code",
      "source": [
        "import zipfile\n",
        "with zipfile.ZipFile('animals-detection-images-dataset.zip', 'r') as zip_ref:\n",
        "    zip_ref.extractall('.')"
      ],
      "metadata": {
        "id": "R-2eg31t99xj"
      },
      "execution_count": 6,
      "outputs": []
    },
    {
      "cell_type": "code",
      "source": [
        "!rm * .zip"
      ],
      "metadata": {
        "colab": {
          "base_uri": "https://localhost:8080/"
        },
        "id": "ALsnoSfj-F-b",
        "outputId": "1e963e3c-d052-4aa9-8c54-e96f0c45c4b9"
      },
      "execution_count": 7,
      "outputs": [
        {
          "output_type": "stream",
          "name": "stdout",
          "text": [
            "rm: cannot remove 'sample_data': Is a directory\n",
            "rm: cannot remove 'test': Is a directory\n",
            "rm: cannot remove 'train': Is a directory\n",
            "rm: cannot remove '.zip': No such file or directory\n"
          ]
        }
      ]
    },
    {
      "cell_type": "markdown",
      "source": [
        "Libraries"
      ],
      "metadata": {
        "id": "8yBzwfLG-Jl3"
      }
    },
    {
      "cell_type": "code",
      "source": [
        "import os\n",
        "import numpy as np\n",
        "import pandas as pd\n",
        "import matplotlib.pyplot as plt\n",
        "from PIL import Image\n",
        "import tensorflow as tf\n",
        "from tensorflow import keras\n",
        "from tensorflow.keras import layers"
      ],
      "metadata": {
        "id": "7QBjXKyd-Ktu"
      },
      "execution_count": 8,
      "outputs": []
    },
    {
      "cell_type": "markdown",
      "source": [
        "Cheking the length of the files in the train set"
      ],
      "metadata": {
        "id": "uaYNfaNy-Y84"
      }
    },
    {
      "cell_type": "code",
      "source": [
        "dir_path = '/content/train'\n",
        "num_folders = len([f.path for f in os.scandir(dir_path) if f.is_dir()])\n",
        "\n",
        "print(\"Number of folders inside 'train':\", num_folders)\n"
      ],
      "metadata": {
        "colab": {
          "base_uri": "https://localhost:8080/"
        },
        "id": "ENVZfF7a-OlN",
        "outputId": "8ed4b2ce-17db-40d2-9ac7-bcf8bd310602"
      },
      "execution_count": 9,
      "outputs": [
        {
          "output_type": "stream",
          "name": "stdout",
          "text": [
            "Number of folders inside 'train': 80\n"
          ]
        }
      ]
    },
    {
      "cell_type": "markdown",
      "source": [
        "Converting to dataframe and Listing images in the Bear folder"
      ],
      "metadata": {
        "id": "oEvAOuF_-mus"
      }
    },
    {
      "cell_type": "code",
      "source": [
        "#the path for bear is:\n",
        "bear_path = '/content/train/Bear'\n",
        "\n",
        "# Get a list of all the images in the folder\n",
        "img_list = [f for f in os.listdir(bear_path) if f.endswith('.jpg')]\n",
        "\n",
        "# Loop through each image and get its size\n",
        "size_list = []\n",
        "for img_name in img_list:\n",
        "    img_path = os.path.join(bear_path, img_name)\n",
        "    img = Image.open(img_path)\n",
        "    width, height = img.size\n",
        "    size_list.append((img_name, width, height))\n",
        "\n",
        "# Convert the list of tuples to a pandas dataframe\n",
        "df = pd.DataFrame(size_list, columns=['image_name', 'width', 'height'])\n",
        "\n",
        "# Print the data frame\n",
        "print(df.head()[:10])"
      ],
      "metadata": {
        "colab": {
          "base_uri": "https://localhost:8080/"
        },
        "id": "JCqQwsLN-qKV",
        "outputId": "e06cfab1-3d71-4d55-e3fe-85547128059e"
      },
      "execution_count": 10,
      "outputs": [
        {
          "output_type": "stream",
          "name": "stdout",
          "text": [
            "             image_name  width  height\n",
            "0  81ac4dbf3af47945.jpg   1024     683\n",
            "1  a711032b9d297f9b.jpg   1024     768\n",
            "2  0c00c86cca098160.jpg    802    1024\n",
            "3  0155b267ade95d1e.jpg   1024     682\n",
            "4  abe460e38bf1bbc9.jpg   1024     680\n"
          ]
        }
      ]
    },
    {
      "cell_type": "code",
      "source": [],
      "metadata": {
        "id": "CoC0KT_C_AB6"
      },
      "execution_count": null,
      "outputs": []
    }
  ]
}